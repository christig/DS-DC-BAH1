{
 "cells": [
  {
   "cell_type": "code",
   "execution_count": null,
   "metadata": {},
   "outputs": [
    {
     "name": "stderr",
     "output_type": "stream",
     "text": [
      " * Running on http://0.0.0.0:9000/ (Press CTRL+C to quit)\n",
      "127.0.0.1 - - [25/Aug/2017 00:30:52] \"GET / HTTP/1.1\" 200 -\n",
      "127.0.0.1 - - [25/Aug/2017 00:30:52] \"GET /favicon.ico HTTP/1.1\" 404 -\n",
      "127.0.0.1 - - [25/Aug/2017 00:31:29] \"GET /api/prediction?site=https://en.wikipedia.org/wiki/Graphics HTTP/1.1\" 404 -\n",
      "127.0.0.1 - - [25/Aug/2017 00:31:43] \"GET /api/predict?site=https://en.wikipedia.org/wiki/Graphics HTTP/1.1\" 200 -\n"
     ]
    }
   ],
   "source": [
    "from flask import Flask\n",
    "from flask import request\n",
    "import requests\n",
    "import pickle\n",
    "import numpy as np\n",
    "import json\n",
    "app = Flask(__name__)\n",
    "s = requests.get('https://git.generalassemb.ly/raw/gist/aegorenk/9e7b2a67e010459b57792bc4257625aa/raw/8335a3689efb94ac6c73eb6284675e617676a220/model.pickle')\n",
    "model = pickle.loads(s.text.encode('utf8'))\n",
    "\n",
    "@app.route('/')\n",
    "def hello_world():\n",
    "    return 'Hello, World!'\n",
    "\n",
    "@app.route('/api/predict')\n",
    "def predict_category():\n",
    "    site = request.args.get('site')\n",
    "    cat = {0: 'alt.atheism', 1: 'comp.graphics', 2: 'sci.space', 3: 'talk.religion.misc'}\n",
    "    content = requests.get(site).text    \n",
    "    payload = [cat[label] for label in model.predict([site])]\n",
    "    return str(json.dumps(payload))\n",
    "\n",
    "if __name__ == '__main__':\n",
    "    app.run(host='0.0.0.0', port=9000)"
   ]
  }
 ],
 "metadata": {
  "kernelspec": {
   "display_name": "Python 2",
   "language": "python",
   "name": "python2"
  },
  "language_info": {
   "codemirror_mode": {
    "name": "ipython",
    "version": 2
   },
   "file_extension": ".py",
   "mimetype": "text/x-python",
   "name": "python",
   "nbconvert_exporter": "python",
   "pygments_lexer": "ipython2",
   "version": "2.7.13"
  }
 },
 "nbformat": 4,
 "nbformat_minor": 2
}
